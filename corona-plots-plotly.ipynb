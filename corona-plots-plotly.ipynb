{
 "cells": [
  {
   "cell_type": "code",
   "execution_count": null,
   "metadata": {},
   "outputs": [],
   "source": [
    "import pandas as pd\n",
    "from IPython.display import Markdown, display\n",
    "from ipywidgets import interact\n",
    "from ipywidgets.widgets import (\n",
    "    Dropdown, SelectionSlider, Checkbox\n",
    ")\n",
    "from datetime import datetime\n",
    "import cufflinks as cf"
   ]
  },
  {
   "cell_type": "markdown",
   "metadata": {},
   "source": [
    "## Getting the data "
   ]
  },
  {
   "cell_type": "code",
   "execution_count": null,
   "metadata": {},
   "outputs": [],
   "source": [
    "path_dict = dict(\n",
    "    confirmed = (\"https://raw.githubusercontent.com/CSSEGISandData/COVID-19/master/\"\n",
    "                 \"csse_covid_19_data/csse_covid_19_time_series/time_series_19-covid-Confirmed.csv\"),\n",
    "    death = (\"https://raw.githubusercontent.com/CSSEGISandData/COVID-19/master/\"\n",
    "             \"csse_covid_19_data/csse_covid_19_time_series/time_series_19-covid-Deaths.csv\"),\n",
    "    recovered = (\"https://raw.githubusercontent.com/CSSEGISandData/COVID-19/master/\"\n",
    "                 \"csse_covid_19_data/csse_covid_19_time_series/time_series_19-covid-Recovered.csv\")\n",
    ")"
   ]
  },
  {
   "cell_type": "code",
   "execution_count": null,
   "metadata": {},
   "outputs": [],
   "source": [
    "def set_index(df):\n",
    "    \"\"\"Set the index for the data frame using the date\n",
    "    \n",
    "    Args:\n",
    "        df: Pandas data frame obtained from John Hopkins repo\n",
    "    \"\"\"\n",
    "    # Set region, country, lat and long as index\n",
    "    index = pd.MultiIndex.from_frame(df.iloc[:, :4])\n",
    "    # Set the index and transpose\n",
    "    df = df.iloc[:, 4:].set_index(index).T\n",
    "    # Set date as index\n",
    "    return df.set_index(pd.to_datetime(df.index, dayfirst=False))\n",
    "\n",
    "df_dict = {\n",
    "    type_: pd.read_csv(path).pipe(set_index)\n",
    "    for type_, path in path_dict.items()\n",
    "}"
   ]
  },
  {
   "cell_type": "code",
   "execution_count": null,
   "metadata": {},
   "outputs": [],
   "source": [
    "def get_data(df_input, \n",
    "             data_type, \n",
    "             output_path=None,\n",
    "             label_total='<< Total >>', \n",
    "             plot_type='line'):\n",
    "    \n",
    "    # Make a copy of the data frame\n",
    "    df_input = df_input.copy()\n",
    "    \n",
    "    # Add a new column with the total number per day\n",
    "    df_input[(None, label_total, None, None)] = (\n",
    "        df_input.groupby(level=1, axis=1)\n",
    "        .sum().sum(axis=1)\n",
    "    )\n",
    "\n",
    "    df = (\n",
    "        df_input\n",
    "        .groupby(level=1, axis=1).sum()\n",
    "    )\n",
    "    \n",
    "    max_str_len = len(label_total)\n",
    "    df.columns = [c if len(c) <= max_str_len \n",
    "                  else f\"{c[:max_str_len]}...\" \n",
    "                  for c in df.columns]\n",
    "    df_diff =  df - df.shift()\n",
    "    \n",
    "    # n = n_rows + 1 (for the total)\n",
    "    n = df.shape[1]\n",
    "\n",
    "    labels = [data_type[0].upper() + data_type[1:] + \" (total)\",\n",
    "              data_type[0].upper() + data_type[1:] + \" (per day)\"]\n",
    "    titles = [f\"Number of {data_type} (total)\",\n",
    "              f\"Number of {data_type} (per day)\"]\n",
    "\n",
    "    visibles = [[True] + (n-1) * ['legendonly'] + n * [False],\n",
    "                 n * [False] + [True] + (n-1) * ['legendonly']]\n",
    "\n",
    "    buttons = [dict(args=[{\"visible\": visible},\n",
    "                          {\"title\": title, \"yaxis_title\": title}], \n",
    "                    label=label, method=\"update\")\n",
    "               for title, label, visible in zip(titles, labels, visibles)]\n",
    "\n",
    "    fig_0 = df.iplot(kind='line', title=titles[0], yTitle=titles[0],\n",
    "                     theme='ggplot', asFigure=True,\n",
    "                     margin=dict(l=0, r=160, b=0, t=50, pad=0), online=True,\n",
    "                     mode='lines+markers', rangeslider=True)\n",
    "\n",
    "    fig_1 = df_diff.iplot(kind='bar', online=True, theme='ggplot', \n",
    "                          asFigure=True, rangeslider=True,\n",
    "                          margin=dict(l=0, r=160, b=0, t=50, pad=0), )\n",
    "\n",
    "    fig_0.add_traces(tuple(fig_1.select_traces()))    \n",
    "    \n",
    "    # Keep only the first selected in the legend\n",
    "    [tr.update({'visible': v}) for tr, v in zip(fig_0.select_traces(), visibles[0])]\n",
    "\n",
    "    fig_0.update_layout(updatemenus=[\n",
    "        dict(type=\"buttons\", direction=\"right\", active=0,\n",
    "             x=0.57, y=1.2, buttons=buttons)\n",
    "    ])\n",
    "\n",
    "    if output_path is not None:\n",
    "        fig_0.write_html(output_path)\n",
    "    \n",
    "    return fig_0"
   ]
  },
  {
   "cell_type": "code",
   "execution_count": null,
   "metadata": {},
   "outputs": [],
   "source": [
    "%%time\n",
    "plot_info = (('confirmed', 'confirmed cases'),\n",
    "             ('death', 'deaths'),\n",
    "             ('recovered', 'recovered cases'))\n",
    "\n",
    "for k, data_type in plot_info:\n",
    "    fig = get_data(df_dict[k], data_type, f\"plot_{k}.html\")"
   ]
  },
  {
   "cell_type": "markdown",
   "metadata": {},
   "source": [
    "<iframe id=\"igraph\" scrolling=\"no\" style=\"border:none;\"\n",
    "        seamless=\"seamless\" src=\"plot.html\" height=\"100%\" width=\"100%\">\n",
    "</iframe>"
   ]
  }
 ],
 "metadata": {
  "kernelspec": {
   "display_name": "Python 3",
   "language": "python",
   "name": "python3"
  },
  "language_info": {
   "codemirror_mode": {
    "name": "ipython",
    "version": 3
   },
   "file_extension": ".py",
   "mimetype": "text/x-python",
   "name": "python",
   "nbconvert_exporter": "python",
   "pygments_lexer": "ipython3",
   "version": "3.6.9"
  }
 },
 "nbformat": 4,
 "nbformat_minor": 4
}
