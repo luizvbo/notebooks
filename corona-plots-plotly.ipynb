{
 "cells": [
  {
   "cell_type": "code",
   "execution_count": 1,
   "metadata": {},
   "outputs": [
    {
     "data": {
      "text/html": [
       "        <script type=\"text/javascript\">\n",
       "        window.PlotlyConfig = {MathJaxConfig: 'local'};\n",
       "        if (window.MathJax) {MathJax.Hub.Config({SVG: {font: \"STIX-Web\"}});}\n",
       "        if (typeof require !== 'undefined') {\n",
       "        require.undef(\"plotly\");\n",
       "        requirejs.config({\n",
       "            paths: {\n",
       "                'plotly': ['https://cdn.plot.ly/plotly-latest.min']\n",
       "            }\n",
       "        });\n",
       "        require(['plotly'], function(Plotly) {\n",
       "            window._Plotly = Plotly;\n",
       "        });\n",
       "        }\n",
       "        </script>\n",
       "        "
      ]
     },
     "metadata": {},
     "output_type": "display_data"
    }
   ],
   "source": [
    "import pandas as pd\n",
    "from IPython.display import Markdown, display\n",
    "from ipywidgets import interact\n",
    "from ipywidgets.widgets import (\n",
    "    Dropdown, SelectionSlider, Checkbox\n",
    ")\n",
    "from datetime import datetime\n",
    "import cufflinks as cf\n",
    "import numpy as np"
   ]
  },
  {
   "cell_type": "markdown",
   "metadata": {},
   "source": [
    "## Getting the data"
   ]
  },
  {
   "cell_type": "code",
   "execution_count": 79,
   "metadata": {},
   "outputs": [],
   "source": [
    "# Path to the files\n",
    "path_dict = dict(\n",
    "    confirmed = (\"https://raw.githubusercontent.com/CSSEGISandData/COVID-19/master/\"\n",
    "                 \"csse_covid_19_data/csse_covid_19_time_series/time_series_covid19_confirmed_global.csv\"),\n",
    "    death = (\"https://raw.githubusercontent.com/CSSEGISandData/COVID-19/master/\"\n",
    "             \"csse_covid_19_data/csse_covid_19_time_series/time_series_covid19_deaths_global.csv\")\n",
    ")"
   ]
  },
  {
   "cell_type": "code",
   "execution_count": 80,
   "metadata": {},
   "outputs": [],
   "source": [
    "def set_index(df):\n",
    "    \"\"\"Set the index for the data frame using the date\n",
    "\n",
    "    Args:\n",
    "        df: Pandas data frame obtained from John Hopkins repo\n",
    "    \"\"\"\n",
    "    # Set region, country, lat and long as index\n",
    "    index = pd.MultiIndex.from_frame(df.iloc[:, :4])\n",
    "    # Set the index and transpose\n",
    "    df = df.iloc[:, 4:].set_index(index).T\n",
    "    # Set date as index\n",
    "    return df.set_index(pd.to_datetime(df.index, dayfirst=False))\n",
    "\n",
    "df_dict = {\n",
    "    type_: pd.read_csv(path).pipe(set_index)\n",
    "    for type_, path in path_dict.items()\n",
    "}"
   ]
  },
  {
   "cell_type": "code",
   "execution_count": 83,
   "metadata": {},
   "outputs": [],
   "source": [
    "def get_same_origin(df):\n",
    "    n_days = df.shape[0]\n",
    "\n",
    "    def _pad_days(s):\n",
    "        s = s.astype(float)\n",
    "        s_pad = s[s.cumsum() != 0]\n",
    "        return np.pad(s_pad, (0, n_days-s_pad.shape[0]), \n",
    "                      'constant', constant_values=np.nan)\n",
    "\n",
    "    df = (\n",
    "        df\n",
    "        .apply(_pad_days, raw=True)\n",
    "        .reset_index(drop=True)\n",
    "    ).dropna(how='all')\n",
    "    \n",
    "    df.index += 1\n",
    "    return df\n",
    "\n",
    "def get_data(df_input,\n",
    "             data_type,\n",
    "             output_path=None,\n",
    "             label_total='<< Total >>',\n",
    "             plot_type='line',\n",
    "             move_origin=False):\n",
    "\n",
    "    # Make a copy of the data frame\n",
    "    df = df_input.copy()\n",
    "    \n",
    "    if not move_origin:\n",
    "        # Add a new column with the total number per day\n",
    "        df[(None, label_total, None, None)] = (\n",
    "            df.groupby(level=1, axis=1)\n",
    "            .sum().sum(axis=1)\n",
    "        )\n",
    "        \n",
    "    # Groupy territories per country\n",
    "    df = df.groupby(level=1, axis=1).sum()\n",
    "        \n",
    "    if move_origin:\n",
    "        # Shift origin\n",
    "        df = get_same_origin(df)\n",
    "        # Replace 0's with NaN's\n",
    "        df.replace(0, np.nan, inplace=True)\n",
    "\n",
    "    max_str_len = len(label_total)\n",
    "    df.columns = [c if len(c) <= max_str_len\n",
    "                  else f\"{c[:max_str_len]}...\"\n",
    "                  for c in df.columns]\n",
    "    \n",
    "    df_diff =  df - df.shift()\n",
    "\n",
    "    # n = n_rows + 1 (for the total)\n",
    "    n = df.shape[1]\n",
    "\n",
    "    labels = [data_type[0].upper() + data_type[1:] + \" (total)\",\n",
    "              data_type[0].upper() + data_type[1:] + \" (per day)\"]\n",
    "    titles = [f\"Number of {data_type} (total)\",\n",
    "              f\"Number of {data_type} (per day)\"]\n",
    "\n",
    "    visibles = [[True] + (n-1) * ['legendonly'] + n * [False],\n",
    "                 n * [False] + [True] + (n-1) * ['legendonly']]\n",
    "\n",
    "    buttons = [dict(args=[{\"visible\": visible},\n",
    "                          {\"yaxis_title\": title}],\n",
    "                    label=label, method=\"update\")\n",
    "               for title, label, visible in zip(titles, labels, visibles)]\n",
    "    \n",
    "    # Plot the data for cumulative number of cases\n",
    "    fig_0 = df.iplot(kind='line',  yTitle=titles[0], \n",
    "                     theme='ggplot', asFigure=True, online=True,\n",
    "                     margin=dict(l=0, r=0, b=0, t=100, pad=0),\n",
    "                     mode='lines+markers')\n",
    "\n",
    "    # Plot the data for daily number of cases\n",
    "    fig_1 = df_diff.iplot(kind='bar', asFigure=True)\n",
    "\n",
    "    # Add the second plot to the first (same fig)\n",
    "    fig_0.add_traces(tuple(fig_1.select_traces()))\n",
    "\n",
    "    # Keep only the first selected in the legend\n",
    "    [tr.update({'visible': v}) for tr, v in zip(fig_0.select_traces(), visibles[0])]\n",
    "\n",
    "    \n",
    "    fig_0.update_layout(\n",
    "        # Define the layout of the menu\n",
    "        updatemenus=[\n",
    "            dict(direction=\"down\", active=0, #type=\"buttons\",\n",
    "                 x=0, y=1.2, xanchor='left', buttons=buttons)\n",
    "        ],\n",
    "        # Define the layout of the legend\n",
    "        legend=dict(\n",
    "            x=0.5, y=-0.9,\n",
    "            yanchor='middle', xanchor='center',\n",
    "            font=dict(\n",
    "                family=\"sans-serif\",\n",
    "                size=10, color=\"black\"\n",
    "            ),\n",
    "            bordercolor=\"Black\", borderwidth=1,\n",
    "            orientation=\"h\"\n",
    "        )\n",
    "    )\n",
    "\n",
    "    if output_path is not None:\n",
    "        # Write the file to HTML\n",
    "        fig_0.write_html(output_path)\n",
    "\n",
    "    return fig_0"
   ]
  },
  {
   "cell_type": "code",
   "execution_count": 84,
   "metadata": {},
   "outputs": [
    {
     "name": "stdout",
     "output_type": "stream",
     "text": [
      "CPU times: user 5.66 s, sys: 3.83 ms, total: 5.66 s\n",
      "Wall time: 5.67 s\n"
     ]
    }
   ],
   "source": [
    "%%time\n",
    "plot_info = (('confirmed', 'confirmed cases'),\n",
    "             ('death', 'deaths'))\n",
    "\n",
    "for k, data_type in plot_info:\n",
    "    path = f\"plot-{k}.html\"\n",
    "    fig = get_data(df_dict[k], data_type, path)"
   ]
  },
  {
   "cell_type": "code",
   "execution_count": 85,
   "metadata": {},
   "outputs": [
    {
     "name": "stdout",
     "output_type": "stream",
     "text": [
      "CPU times: user 5.68 s, sys: 48.3 ms, total: 5.72 s\n",
      "Wall time: 5.7 s\n"
     ]
    }
   ],
   "source": [
    "%%time\n",
    "\n",
    "for k, data_type in plot_info:\n",
    "    path = f\"plot-{k}-origin.html\"\n",
    "    fig = get_data(df_dict[k], data_type, \n",
    "                   path, move_origin=True)"
   ]
  }
 ],
 "metadata": {
  "kernelspec": {
   "display_name": "Python 3",
   "language": "python",
   "name": "python3"
  },
  "language_info": {
   "codemirror_mode": {
    "name": "ipython",
    "version": 3
   },
   "file_extension": ".py",
   "mimetype": "text/x-python",
   "name": "python",
   "nbconvert_exporter": "python",
   "pygments_lexer": "ipython3",
   "version": "3.6.9"
  }
 },
 "nbformat": 4,
 "nbformat_minor": 4
}
