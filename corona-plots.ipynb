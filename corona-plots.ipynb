{
 "cells": [
  {
   "cell_type": "markdown",
   "metadata": {},
   "source": [
    "---\n",
    "title: Visualizing COVID-19 infection (corona virus) over time\n",
    "date: 2020-03-12\n",
    "---"
   ]
  },
  {
   "cell_type": "markdown",
   "metadata": {},
   "source": [
    "# Exploring COVID-19\n",
    "\n",
    "The Johns Hopkins University Center for Systems Science and Engineering (JHU CSSE) maintain a [GitHub repository with daily update information about teh Corona Virus](https://github.com/CSSEGISandData/COVID-19). They also provide a [dashboard to interact with the data](https://www.arcgis.com/apps/opsdashboard/index.html#/bda7594740fd40299423467b48e9ecf6).\n",
    "\n",
    "However, even their dashboard doesn't provide the information I would like to see: **The evolution over time of the number of cases/deaths/recoverys per country**\n",
    "\n",
    "Thus, the idea of this notebook is to create interactive plots that we can use to monitor the evolution of the disease.\n",
    "\n",
    "You are more than welcome to modify to the notebook to predict the number of cases and do other types of analysis. The notebook can be found in my **[GitHub repository](https://github.com/luizvbo/notebooks/blob/master/corona-plots.ipynb)**.\n",
    "\n",
    "## Imports\n",
    "\n",
    "I am using Pandas + cufflinks to plot our data using Plotly.\n",
    "\n",
    "I am also using ipywidgets to interact with the plots. If you are using Jupyterlab, you may need to refer to the [installation documention](https://ipywidgets.readthedocs.io/en/latest/user_install.html#installing-the-jupyterlab-extension)."
   ]
  },
  {
   "cell_type": "code",
   "execution_count": 17,
   "metadata": {},
   "outputs": [],
   "source": [
    "import pandas as pd\n",
    "from IPython.display import Markdown, display\n",
    "from ipywidgets import interact\n",
    "from ipywidgets.widgets import (\n",
    "    Dropdown, SelectionSlider, Checkbox\n",
    ")\n",
    "from datetime import datetime\n",
    "import cufflinks as cf"
   ]
  },
  {
   "cell_type": "markdown",
   "metadata": {},
   "source": [
    "## Getting the data "
   ]
  },
  {
   "cell_type": "code",
   "execution_count": 8,
   "metadata": {},
   "outputs": [],
   "source": [
    "path_dict = dict(\n",
    "    confirmed = (\"https://raw.githubusercontent.com/CSSEGISandData/COVID-19/master/\"\n",
    "                 \"csse_covid_19_data/csse_covid_19_time_series/time_series_19-covid-Confirmed.csv\"),\n",
    "    death = (\"https://raw.githubusercontent.com/CSSEGISandData/COVID-19/master/\"\n",
    "             \"csse_covid_19_data/csse_covid_19_time_series/time_series_19-covid-Deaths.csv\"),\n",
    "    recovered = (\"https://raw.githubusercontent.com/CSSEGISandData/COVID-19/master/\"\n",
    "                 \"csse_covid_19_data/csse_covid_19_time_series/time_series_19-covid-Recovered.csv\")\n",
    ")"
   ]
  },
  {
   "cell_type": "code",
   "execution_count": 10,
   "metadata": {},
   "outputs": [],
   "source": [
    "def set_index(df):\n",
    "    \"\"\"Set the index for the data frame using the date\n",
    "    \n",
    "    Args:\n",
    "        df: Pandas data frame obtained from John Hopkins repo\n",
    "    \"\"\"\n",
    "    # Set region, country, lat and long as index\n",
    "    index = pd.MultiIndex.from_frame(df.iloc[:, :4])\n",
    "    # Set the index and transpose\n",
    "    df = df.iloc[:, 4:].set_index(index).T\n",
    "    # Set date as index\n",
    "    return df.set_index(pd.to_datetime(df.index, dayfirst=False))\n",
    "\n",
    "df_dict = {\n",
    "    type_: pd.read_csv(path).pipe(set_index)\n",
    "    for type_, path in path_dict.items()\n",
    "}"
   ]
  },
  {
   "cell_type": "markdown",
   "metadata": {},
   "source": [
    "## Making interative plots"
   ]
  },
  {
   "cell_type": "code",
   "execution_count": 29,
   "metadata": {},
   "outputs": [],
   "source": [
    "def interactive_plot(df_input, \n",
    "                     df_label,\n",
    "                     width=800, \n",
    "                     heigth=600):\n",
    "    \"\"\"\n",
    "    Plot the data using ipywidgets to interact with it\n",
    "    \n",
    "    Args:\n",
    "        df_input: Input data frame, prepared by `set_index`\n",
    "        df_label: Label of the data frame (death, confirmed, recovered)\n",
    "        width: Width of the plot\n",
    "        heigth: Heigth of the plot\n",
    "    \"\"\"\n",
    "    # Add a new column with the total number per day\n",
    "    df_input[(None, 'Total', None, None)] = df_input.groupby(level=1, axis=1).sum().sum(axis=1)\n",
    "        \n",
    "    # Get the list of countries\n",
    "    country_list = df_input.columns.get_level_values(1).unique().sort_values().tolist()\n",
    "    # Move Total to the top and add the No country option\n",
    "    country_list = ['No country', 'Total'] + [c for c in country_list if c != 'Total']\n",
    "    \n",
    "    # Get the list of dates for the series\n",
    "    date_list = df_input.index.strftime('%d/%m/%y')\n",
    "    \n",
    "    # ipywidgets:\n",
    "    # We use dropdowns for the countries\n",
    "    country_widget_1 = Dropdown(options=country_list, value='Total', \n",
    "                                description='Country 1')\n",
    "    country_widget_2 = Dropdown(options=country_list, value='No country', \n",
    "                                description='Country 2')\n",
    "    country_widget_3 = Dropdown(options=country_list, value='No country', \n",
    "                                description='Country 3')\n",
    "    # Selection slider for the dates (since the date picker has some problems)\n",
    "    start_date_widget = SelectionSlider(\n",
    "        options=date_list,\n",
    "        value=date_list[0],\n",
    "        description='Start date',\n",
    "    )\n",
    "    end_date_widget = SelectionSlider(\n",
    "        options=date_list,\n",
    "        value=date_list[-1],\n",
    "        description='End date',\n",
    "    )\n",
    "    # And a checkbox to determine if we want the information per day or cumulative\n",
    "    daily_cases_widget = Checkbox(\n",
    "        value=False,\n",
    "        description='Show the n. of new cases/day',\n",
    "    )\n",
    "    \n",
    "    # A layout is used for the plotly figure\n",
    "    layout = cf.Layout(height=heigth,\n",
    "                       width=width, \n",
    "                       autosize=False,\n",
    "                       xaxis=dict(title='Date'),\n",
    "                       margin=dict(l=60, r=60, b=40, \n",
    "                                   t=40, pad=4))\n",
    "\n",
    "    # We have a function that does the update of the data\n",
    "    # using the ipywidgets defined above\n",
    "    @interact(country_1=country_widget_1, \n",
    "              country_2=country_widget_2, \n",
    "              country_3=country_widget_3, \n",
    "              start_date=start_date_widget, \n",
    "              end_date=end_date_widget,\n",
    "              daily_var=daily_cases_widget)\n",
    "    def plot_range(country_1, country_2, country_3, \n",
    "                   start_date, end_date, daily_var):\n",
    "        \"\"\"\n",
    "        Update the plot using information from the ipywidgets.\n",
    "        \n",
    "        The plot can compare at maximum three countries at the same\n",
    "        time.\n",
    "        \n",
    "        Args:\n",
    "            country_1: Country 1 to appear in the plot\n",
    "            country_2: Country 1 to appear in the plot\n",
    "            country_3: Country 1 to appear in the plot\n",
    "            start_date: Plot data from `start_date` on\n",
    "            end_date: Plot data until `end_date`\n",
    "            daily_var: Determine if we should show the cumulative\n",
    "                or the number new cases per day\n",
    "        \"\"\"\n",
    "        # Limit the data acconding to the countries selected and date range\n",
    "        df = (\n",
    "            df_input\n",
    "            .groupby(level=1, axis=1).sum()\n",
    "            .loc[lambda df_: (df_.index >= datetime.strptime(start_date, '%d/%m/%y')) &  \n",
    "                             (df_.index <= datetime.strptime(end_date, '%d/%m/%y')),\n",
    "                 lambda df_: (df_.columns.get_level_values('Country/Region')\n",
    "                              .isin([country_1, country_2, country_3]))]\n",
    "        )\n",
    "        \n",
    "        # If daily_var is True, compute the number of new cases per day\n",
    "        if daily_var:\n",
    "            df = df - df.shift()\n",
    "            title = F'Number of new {df_label} cases / day'\n",
    "            plot_type = 'bar'\n",
    "        else:\n",
    "            title = F'Number of {df_label} cases (cumulative)'\n",
    "            plot_type = 'line'\n",
    "        \n",
    "        # Define the title and y axis label\n",
    "        layout.title = title\n",
    "        layout.yaxis.title = title\n",
    "        # Plot the data\n",
    "        df.iplot(kind=plot_type, yTitle=title, layout=layout)"
   ]
  },
  {
   "cell_type": "markdown",
   "metadata": {},
   "source": [
    "## Showing the data\n",
    "\n",
    "Finally we can show our data and play with it.\n",
    "\n",
    "There are 3 dropdown menus that allow you to select 3 different countries to compare."
   ]
  },
  {
   "cell_type": "code",
   "execution_count": 31,
   "metadata": {},
   "outputs": [
    {
     "data": {
      "text/markdown": [
       "---\n",
       "## Number of confirmed cases over time"
      ],
      "text/plain": [
       "<IPython.core.display.Markdown object>"
      ]
     },
     "metadata": {},
     "output_type": "display_data"
    },
    {
     "data": {
      "application/vnd.jupyter.widget-view+json": {
       "model_id": "e03d386afa5642f99a4032c4212b1b55",
       "version_major": 2,
       "version_minor": 0
      },
      "text/plain": [
       "interactive(children=(Dropdown(description='Country 1', index=1, options=('No country', 'Total', 'Afghanistan'…"
      ]
     },
     "metadata": {},
     "output_type": "display_data"
    },
    {
     "data": {
      "text/markdown": [
       "---\n",
       "## Number of death cases over time"
      ],
      "text/plain": [
       "<IPython.core.display.Markdown object>"
      ]
     },
     "metadata": {},
     "output_type": "display_data"
    },
    {
     "data": {
      "application/vnd.jupyter.widget-view+json": {
       "model_id": "b0305551794d4a6f8758906350e5abc1",
       "version_major": 2,
       "version_minor": 0
      },
      "text/plain": [
       "interactive(children=(Dropdown(description='Country 1', index=1, options=('No country', 'Total', 'Afghanistan'…"
      ]
     },
     "metadata": {},
     "output_type": "display_data"
    },
    {
     "data": {
      "text/markdown": [
       "---\n",
       "## Number of recovered cases over time"
      ],
      "text/plain": [
       "<IPython.core.display.Markdown object>"
      ]
     },
     "metadata": {},
     "output_type": "display_data"
    },
    {
     "data": {
      "application/vnd.jupyter.widget-view+json": {
       "model_id": "81a26b42c3c54e9cbed9c9e6bd80efe5",
       "version_major": 2,
       "version_minor": 0
      },
      "text/plain": [
       "interactive(children=(Dropdown(description='Country 1', index=1, options=('No country', 'Total', 'Afghanistan'…"
      ]
     },
     "metadata": {},
     "output_type": "display_data"
    }
   ],
   "source": [
    "# Finally, we plot all the cases\n",
    "for type_, df in df_dict.items():\n",
    "    display(Markdown(f'---\\n## Number of {type_} cases over time'))\n",
    "    interactive_plot(df.rename(columns={'Others': 'Diamond Princess'}), type_)"
   ]
  }
 ],
 "metadata": {
  "kernelspec": {
   "display_name": "Python 3",
   "language": "python",
   "name": "python3"
  },
  "language_info": {
   "codemirror_mode": {
    "name": "ipython",
    "version": 3
   },
   "file_extension": ".py",
   "mimetype": "text/x-python",
   "name": "python",
   "nbconvert_exporter": "python",
   "pygments_lexer": "ipython3",
   "version": "3.6.9"
  }
 },
 "nbformat": 4,
 "nbformat_minor": 4
}
